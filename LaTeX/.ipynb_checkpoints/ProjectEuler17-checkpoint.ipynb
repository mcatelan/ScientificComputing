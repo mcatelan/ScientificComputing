{
 "cells": [
  {
   "cell_type": "markdown",
   "metadata": {
    "nbgrader": {}
   },
   "source": [
    "# Project Euler: Problem 17"
   ]
  },
  {
   "cell_type": "markdown",
   "metadata": {
    "nbgrader": {}
   },
   "source": [
    "https://projecteuler.net/problem=17\n",
    "\n",
    "If the numbers 1 to 5 are written out in words: one, two, three, four, five, then there are 3 + 3 + 5 + 4 + 4 = 19 letters used in total.\n",
    "\n",
    "If all the numbers from 1 to 1000 (one thousand) inclusive were written out in words, how many letters would be used?\n",
    "\n",
    "\n",
    "NOTE: Do not count spaces or hyphens. For example, 342 (three hundred and forty-two) contains 23 letters and 115 (one hundred and fifteen) contains 20 letters. The use of \"and\" when writing out numbers is in compliance with British usage."
   ]
  },
  {
   "cell_type": "markdown",
   "metadata": {
    "nbgrader": {}
   },
   "source": [
    "First write a `number_to_words(n)` function that takes an integer `n` between 1 and 1000 inclusive and returns a list of words for the number as described above"
   ]
  },
  {
   "cell_type": "code",
   "execution_count": 18,
   "metadata": {
    "collapsed": true
   },
   "outputs": [],
   "source": [
    "def round_down(n):\n",
    "    s = str(n)\n",
    "    if n <= 20:\n",
    "        return n\n",
    "    elif n < 100:\n",
    "        return int(s[0] + '0'), int(s[1])\n",
    "    elif n<1000:\n",
    "        return int(s[0] + '00'),int(s[1]),int(s[2])\n",
    "        "
   ]
  },
  {
   "cell_type": "code",
   "execution_count": 19,
   "metadata": {
    "collapsed": false
   },
   "outputs": [],
   "source": [
    "assert round_down(5) == 5\n",
    "assert round_down(55) == (50,5)\n",
    "assert round_down(222) == (200,2,2)\n"
   ]
  },
  {
   "cell_type": "code",
   "execution_count": 33,
   "metadata": {
    "collapsed": false,
    "nbgrader": {
     "checksum": "790b69a83b63d5a31b5fac1451dd3b54",
     "solution": true
    }
   },
   "outputs": [],
   "source": [
    "def number_to_words(n):\n",
    "    \"\"\"Given a number n between 1-1000 inclusive return a list of words for the number.\"\"\"\n",
    "    lst = []\n",
    "    dic = {\n",
    "        0: 'zero',\n",
    "        1: 'one',\n",
    "        2: 'two',\n",
    "        3: 'three',\n",
    "        4: 'four',\n",
    "        5: 'five',\n",
    "        6: 'six',\n",
    "        7: 'seven',\n",
    "        8: 'eight',\n",
    "        9: 'nine',\n",
    "        10: 'ten',\n",
    "        11: 'eleven',\n",
    "        12: 'twelve',\n",
    "        13: 'thirteen',\n",
    "        14: 'fourteen',\n",
    "        15: 'fifteen',\n",
    "        16: 'sixteen',\n",
    "        17: 'seventeen',\n",
    "        18: 'eighteen',\n",
    "        19: 'nineteen',\n",
    "        20: 'twenty',\n",
    "        30: 'thirty',\n",
    "        40: 'forty',\n",
    "        50: 'fifty',\n",
    "        60: 'sixty',\n",
    "        70: 'seventy',\n",
    "        80: 'eighty',\n",
    "        90: 'ninety',\n",
    "        100: 'one hundred',\n",
    "        200: 'two hundred',\n",
    "        300: 'three hundred',\n",
    "        400: 'four hundred',\n",
    "        500: 'five hundred',\n",
    "        600: 'six hundred',\n",
    "        700: 'seven hundred',\n",
    "        800: 'eight hundred',\n",
    "        900: 'nine hundred'}\n",
    "    for i in range(1,n+1):\n",
    "        if i <= 20:\n",
    "            for entry in dic:\n",
    "                if i == entry:\n",
    "                     lst.append(dic[i])\n",
    "        elif i < 100:\n",
    "            first,second = round_down(i)\n",
    "            for entry in dic:\n",
    "                if first == entry:\n",
    "                    if second == 0:\n",
    "                        lst.append(dic[first])\n",
    "                    else:\n",
    "                        lst.append(dic[first] + '-' + dic[second])\n",
    "        elif i <1000:\n",
    "            first,second,third = round_down(i)\n",
    "            for entry in dic:\n",
    "                if first == entry:\n",
    "                    if second == 0 and third == 0:\n",
    "                        lst.append(dic[first])\n",
    "                    elif second == 0:\n",
    "                        lst.append(dic[first] + ' and ' + dic[third])\n",
    "                    elif second == 1:\n",
    "                        #For handling the teen case\n",
    "                        lst.append(dic[first] + ' and ' + dic[int(str(second)+str(third))])\n",
    "                    elif third == 0:\n",
    "                        #Here I multiply by 10 because round_down removes the 0 for my second digit\n",
    "                        lst.append(dic[first] + ' and ' + dic[second*10])\n",
    "                    else:\n",
    "                        lst.append(dic[first] + ' and ' + dic[second*10] + '-' + dic[third])\n",
    "        elif i == 1000:\n",
    "            lst.append('one thousand')\n",
    "    return lst\n",
    "\n",
    "                    \n",
    "        \n",
    "        \n",
    "        \n",
    "   \n",
    "            "
   ]
  },
  {
   "cell_type": "code",
   "execution_count": 34,
   "metadata": {
    "collapsed": false
   },
   "outputs": [
    {
     "data": {
      "text/plain": [
       "['one', 'two', 'three', 'four', 'five']"
      ]
     },
     "execution_count": 34,
     "metadata": {},
     "output_type": "execute_result"
    }
   ],
   "source": [
    "number_to_words(5)"
   ]
  },
  {
   "cell_type": "markdown",
   "metadata": {
    "nbgrader": {}
   },
   "source": [
    "Now write a set of `assert` tests for your `number_to_words` function that verifies that it is working as expected."
   ]
  },
  {
   "cell_type": "code",
   "execution_count": 35,
   "metadata": {
    "collapsed": false,
    "deletable": false,
    "nbgrader": {
     "checksum": "6cff4e8e53b15273846c3aecaea84a3d",
     "solution": true
    }
   },
   "outputs": [],
   "source": [
    "assert len(number_to_words(5))==5\n",
    "assert len(number_to_words(900))==900\n",
    "assert number_to_words(50)[-1]=='fifty'"
   ]
  },
  {
   "cell_type": "code",
   "execution_count": 36,
   "metadata": {
    "collapsed": true,
    "deletable": false,
    "nbgrader": {
     "checksum": "2c71c0f9dbe2a57b1ddc17bf544d86ed",
     "grade": true,
     "grade_id": "projecteuler17a",
     "points": 4
    }
   },
   "outputs": [],
   "source": [
    "assert True # use this for grading the number_to_words tests."
   ]
  },
  {
   "cell_type": "markdown",
   "metadata": {
    "nbgrader": {}
   },
   "source": [
    "Now define a `count_letters(n)` that returns the number of letters used to write out the words for all of the the numbers `1` to `n` inclusive."
   ]
  },
  {
   "cell_type": "code",
   "execution_count": 37,
   "metadata": {
    "collapsed": true,
    "nbgrader": {
     "checksum": "be228a805b41eda2b30887a53523f76b",
     "solution": true
    }
   },
   "outputs": [],
   "source": [
    "def count_letters(n):\n",
    "    \"\"\"Count the number of letters used to write out the words for 1-n inclusive.\"\"\"\n",
    "    lst2 = []\n",
    "    for entry in number_to_words(n):\n",
    "        count = 0\n",
    "        for char in entry:\n",
    "            if char != ' ' and char != '-':\n",
    "                count = count + 1\n",
    "        lst2.append(count)\n",
    "    return lst2"
   ]
  },
  {
   "cell_type": "markdown",
   "metadata": {
    "nbgrader": {}
   },
   "source": [
    "Now write a set of `assert` tests for your `count_letters` function that verifies that it is working as expected."
   ]
  },
  {
   "cell_type": "code",
   "execution_count": 38,
   "metadata": {
    "collapsed": false,
    "deletable": false,
    "nbgrader": {
     "checksum": "6cff4e8e53b15273846c3aecaea84a3d",
     "solution": true
    }
   },
   "outputs": [],
   "source": [
    "assert count_letters(1) == [3]\n",
    "assert len(count_letters(342)) == 342\n",
    "assert count_letters(5) == [3,3,5,4,4]"
   ]
  },
  {
   "cell_type": "code",
   "execution_count": 39,
   "metadata": {
    "collapsed": true,
    "deletable": false,
    "nbgrader": {
     "checksum": "3a06c9610681f0174008f2976e310e0a",
     "grade": true,
     "grade_id": "projecteuler17b",
     "points": 4
    }
   },
   "outputs": [],
   "source": [
    "assert True # use this for grading the count_letters tests."
   ]
  },
  {
   "cell_type": "markdown",
   "metadata": {
    "nbgrader": {}
   },
   "source": [
    "Finally used your `count_letters` function to solve the original question."
   ]
  },
  {
   "cell_type": "code",
   "execution_count": 40,
   "metadata": {
    "collapsed": false,
    "deletable": false,
    "nbgrader": {
     "checksum": "6cff4e8e53b15273846c3aecaea84a3d",
     "solution": true
    }
   },
   "outputs": [
    {
     "name": "stdout",
     "output_type": "stream",
     "text": [
      "21124\n"
     ]
    }
   ],
   "source": [
    "print(sum(count_letters(1000)))"
   ]
  },
  {
   "cell_type": "code",
   "execution_count": 29,
   "metadata": {
    "collapsed": true,
    "deletable": false,
    "nbgrader": {
     "checksum": "a136658e13c4f1154caf307a2e852f99",
     "grade": true,
     "grade_id": "projecteuler17c",
     "points": 2
    }
   },
   "outputs": [],
   "source": [
    "assert True # use this for gradig the answer to the original question."
   ]
  },
  {
   "cell_type": "code",
   "execution_count": null,
   "metadata": {
    "collapsed": true
   },
   "outputs": [],
   "source": []
  }
 ],
 "metadata": {
  "kernelspec": {
   "display_name": "Python 3",
   "language": "python",
   "name": "python3"
  },
  "language_info": {
   "codemirror_mode": {
    "name": "ipython",
    "version": 3
   },
   "file_extension": ".py",
   "mimetype": "text/x-python",
   "name": "python",
   "nbconvert_exporter": "python",
   "pygments_lexer": "ipython3",
   "version": "3.4.0"
  }
 },
 "nbformat": 4,
 "nbformat_minor": 0
}
