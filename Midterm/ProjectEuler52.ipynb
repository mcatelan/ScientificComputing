{
 "cells": [
  {
   "cell_type": "markdown",
   "metadata": {
    "nbgrader": {}
   },
   "source": [
    "# Project Euler: Problem 52"
   ]
  },
  {
   "cell_type": "markdown",
   "metadata": {
    "nbgrader": {}
   },
   "source": [
    "https://projecteuler.net/problem=52\n",
    "\n",
    "It can be seen that the number, $125874$, and its double, $251748$, contain exactly the same digits, but in a different order.\n",
    "\n",
    "Find the smallest positive integer, $x$, such that $2x$, $3x$, $4x$, $5x$, and $6x$, contain the same digits."
   ]
  },
  {
   "cell_type": "markdown",
   "metadata": {
    "nbgrader": {}
   },
   "source": [
    "First, write a function `same_digits(x,y)` that returns `True` if two integers `x` and `y` have the exact same set of digits and multiplicities and `False` if they have different digits."
   ]
  },
  {
   "cell_type": "code",
   "execution_count": 1,
   "metadata": {
    "collapsed": false,
    "nbgrader": {
     "checksum": "aad5ed41801af39fc06f00c8d275a010",
     "solution": true
    }
   },
   "outputs": [],
   "source": [
    "def same_digits(x, y):\n",
    "    value = True\n",
    "    xs = str(x)\n",
    "    ys = str(y)\n",
    "    \n",
    "    xl = [i for i in xs]\n",
    "    yl = [j for j in ys]\n",
    "    \n",
    "    xs = sorted(xl)\n",
    "    ys = sorted(yl)\n",
    "    \n",
    "    if len(xs) != len(ys):\n",
    "        value = False\n",
    "    else:\n",
    "        for i in range(0,len(xs)):\n",
    "            if xs[i]!=ys[i]:\n",
    "                value = False\n",
    "    return value"
   ]
  },
  {
   "cell_type": "code",
   "execution_count": 2,
   "metadata": {
    "collapsed": false,
    "deletable": false,
    "nbgrader": {
     "checksum": "dd0aff5d565bc794cee175aaa6c0cb3d",
     "grade": true,
     "grade_id": "projecteuler52a",
     "points": 4
    }
   },
   "outputs": [],
   "source": [
    "assert same_digits('132', '321')\n",
    "assert not same_digits('123', '3')\n",
    "assert not same_digits('456', '0987654321')"
   ]
  },
  {
   "cell_type": "markdown",
   "metadata": {
    "nbgrader": {}
   },
   "source": [
    "Now use the `same_digits` function to solve this Euler problem. As you work on this problem, be careful to debug and test your code on small integers before trying it on the full search."
   ]
  },
  {
   "cell_type": "markdown",
   "metadata": {},
   "source": [
    "Searching for the smallest. So I will look from the bottom and the first one I find is the smallest"
   ]
  },
  {
   "cell_type": "code",
   "execution_count": 6,
   "metadata": {
    "collapsed": false,
    "deletable": false,
    "nbgrader": {
     "checksum": "6cff4e8e53b15273846c3aecaea84a3d",
     "solution": true
    }
   },
   "outputs": [
    {
     "data": {
      "text/plain": [
       "142857"
      ]
     },
     "execution_count": 6,
     "metadata": {},
     "output_type": "execute_result"
    }
   ],
   "source": [
    "myint = 0\n",
    "for b in range(1,200000):\n",
    "    if same_digits(b, 2*b) and same_digits(b, 3*b) and same_digits(b, 4*b) and same_digits(b, 5*b) and same_digits(b, 6*b)  :\n",
    "        myint = b\n",
    "        break\n",
    "myint\n",
    "\n",
    "\n"
   ]
  },
  {
   "cell_type": "code",
   "execution_count": 4,
   "metadata": {
    "collapsed": true,
    "deletable": false,
    "nbgrader": {
     "checksum": "dafbda681e8fb50925790dc1d0600750",
     "grade": true,
     "grade_id": "projecteuler52b",
     "points": 6
    }
   },
   "outputs": [],
   "source": [
    "assert True # leave this cell to grade the solution"
   ]
  }
 ],
 "metadata": {
  "kernelspec": {
   "display_name": "Python 3",
   "language": "python",
   "name": "python3"
  },
  "language_info": {
   "codemirror_mode": {
    "name": "ipython",
    "version": 3
   },
   "file_extension": ".py",
   "mimetype": "text/x-python",
   "name": "python",
   "nbconvert_exporter": "python",
   "pygments_lexer": "ipython3",
   "version": "3.4.0"
  }
 },
 "nbformat": 4,
 "nbformat_minor": 0
}
