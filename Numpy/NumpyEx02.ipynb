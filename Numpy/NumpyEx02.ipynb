{
 "cells": [
  {
   "cell_type": "markdown",
   "metadata": {
    "nbgrader": {}
   },
   "source": [
    "# Numpy Exercise 2"
   ]
  },
  {
   "cell_type": "markdown",
   "metadata": {
    "nbgrader": {}
   },
   "source": [
    "## Imports"
   ]
  },
  {
   "cell_type": "code",
   "execution_count": 1,
   "metadata": {
    "collapsed": true,
    "nbgrader": {}
   },
   "outputs": [],
   "source": [
    "import numpy as np\n",
    "%matplotlib inline\n",
    "import matplotlib.pyplot as plt\n",
    "import seaborn as sns"
   ]
  },
  {
   "cell_type": "markdown",
   "metadata": {
    "nbgrader": {}
   },
   "source": [
    "## Factorial"
   ]
  },
  {
   "cell_type": "markdown",
   "metadata": {
    "nbgrader": {}
   },
   "source": [
    "Write a function that computes the factorial of small numbers using `np.arange` and `np.cumprod`."
   ]
  },
  {
   "cell_type": "code",
   "execution_count": 2,
   "metadata": {
    "collapsed": false,
    "nbgrader": {
     "checksum": "4e72a0f70d32914a77d8d31ae0c2fb5a",
     "solution": true
    }
   },
   "outputs": [],
   "source": [
    "def np_fact(n):\n",
    "    \"\"\"Compute n! = n*(n-1)*...*1 using Numpy.\"\"\"\n",
    "    if n == 0:\n",
    "        return 1\n",
    "    else:\n",
    "        c = np.arange(1, n+1, 1)\n",
    "        return c.cumprod()[n-1]\n"
   ]
  },
  {
   "cell_type": "code",
   "execution_count": 3,
   "metadata": {
    "collapsed": false,
    "deletable": false,
    "nbgrader": {
     "checksum": "fcb54de452abd89e3b1818a34678d4b4",
     "grade": true,
     "grade_id": "numpyex02a",
     "points": 4
    }
   },
   "outputs": [],
   "source": [
    "assert np_fact(0)==1\n",
    "assert np_fact(1)==1\n",
    "assert np_fact(10)==3628800\n",
    "assert [np_fact(i) for i in range(0,11)]==[1,1,2,6,24,120,720,5040,40320,362880,3628800]"
   ]
  },
  {
   "cell_type": "markdown",
   "metadata": {
    "nbgrader": {}
   },
   "source": [
    "Write a function that computes the factorial of small numbers using a Python loop."
   ]
  },
  {
   "cell_type": "code",
   "execution_count": 4,
   "metadata": {
    "collapsed": true,
    "nbgrader": {
     "checksum": "9341aa5eb68a3ce57e5cce1cd9192021",
     "solution": true
    }
   },
   "outputs": [],
   "source": [
    "def loop_fact(n):\n",
    "    result = 1\n",
    "    \"\"\"Compute n! using a Python for loop.\"\"\"\n",
    "    if n == 0:\n",
    "        return 1\n",
    "    else:\n",
    "        while n > 0:\n",
    "            result = result*n\n",
    "            n-=1\n",
    "    return result"
   ]
  },
  {
   "cell_type": "code",
   "execution_count": 5,
   "metadata": {
    "collapsed": false,
    "deletable": false,
    "nbgrader": {
     "checksum": "a9946f0fdca1abf66ddfb0454ab10113",
     "grade": true,
     "grade_id": "numpyex02b",
     "points": 4
    }
   },
   "outputs": [],
   "source": [
    "assert loop_fact(0)==1\n",
    "assert loop_fact(1)==1\n",
    "assert loop_fact(10)==3628800\n",
    "assert [loop_fact(i) for i in range(0,11)]==[1,1,2,6,24,120,720,5040,40320,362880,3628800]"
   ]
  },
  {
   "cell_type": "markdown",
   "metadata": {
    "nbgrader": {}
   },
   "source": [
    "Use the `%timeit` magic to time both versions of this function for an argument of `50`. The syntax for `%timeit` is:\n",
    "\n",
    "```python\n",
    "%timeit -n1 -r1 function_to_time()\n",
    "```"
   ]
  },
  {
   "cell_type": "code",
   "execution_count": 6,
   "metadata": {
    "collapsed": false,
    "deletable": false,
    "nbgrader": {
     "checksum": "6cff4e8e53b15273846c3aecaea84a3d",
     "solution": true
    },
    "scrolled": true
   },
   "outputs": [
    {
     "name": "stdout",
     "output_type": "stream",
     "text": [
      "Argument of 50\n",
      "1 loops, best of 1: 49.1 µs per loop\n",
      "1 loops, best of 1: 29.1 µs per loop\n",
      "Argument of 90000\n",
      "1 loops, best of 1: 1.96 ms per loop\n",
      "1 loops, best of 1: 3.75 s per loop\n"
     ]
    }
   ],
   "source": [
    "print(\"Argument of 50\")\n",
    "%timeit -n1 -r1 np_fact(50)\n",
    "%timeit -n1 -r1 loop_fact(50)\n",
    "\n",
    "print(\"Argument of 90000\")\n",
    "%timeit -n1 -r1 np_fact(90000)\n",
    "%timeit -n1 -r1 loop_fact(90000)"
   ]
  },
  {
   "cell_type": "markdown",
   "metadata": {
    "nbgrader": {}
   },
   "source": [
    "In the cell below, summarize your timing tests. Which version is faster? Why do you think that version is faster?"
   ]
  },
  {
   "cell_type": "markdown",
   "metadata": {
    "deletable": false,
    "nbgrader": {
     "checksum": "84e52188175a63ea7106817b9b063eef",
     "grade": true,
     "grade_id": "numpyex02c",
     "points": 2,
     "solution": true
    }
   },
   "source": [
    "Loop_fact is faster than np_fact for small values. I believe this is because np_fact is creating an array and every entry in the array, while loop_fact is only directly doing the computation. But you can notice that as the argument is increased to very large values np_fact is much faster."
   ]
  }
 ],
 "metadata": {
  "kernelspec": {
   "display_name": "Python 2",
   "language": "python",
   "name": "python2"
  },
  "language_info": {
   "codemirror_mode": {
    "name": "ipython",
    "version": 2
   },
   "file_extension": ".py",
   "mimetype": "text/x-python",
   "name": "python",
   "nbconvert_exporter": "python",
   "pygments_lexer": "ipython2",
   "version": "2.7.6"
  }
 },
 "nbformat": 4,
 "nbformat_minor": 0
}
