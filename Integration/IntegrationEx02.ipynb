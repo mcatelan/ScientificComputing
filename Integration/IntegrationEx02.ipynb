{
 "cells": [
  {
   "cell_type": "markdown",
   "metadata": {
    "nbgrader": {}
   },
   "source": [
    "# Integration Exercise 2"
   ]
  },
  {
   "cell_type": "markdown",
   "metadata": {
    "nbgrader": {}
   },
   "source": [
    "## Imports"
   ]
  },
  {
   "cell_type": "code",
   "execution_count": 2,
   "metadata": {
    "collapsed": true,
    "nbgrader": {}
   },
   "outputs": [],
   "source": [
    "%matplotlib inline\n",
    "import matplotlib.pyplot as plt\n",
    "import numpy as np\n",
    "import seaborn as sns\n",
    "from scipy import integrate"
   ]
  },
  {
   "cell_type": "markdown",
   "metadata": {
    "nbgrader": {}
   },
   "source": [
    "## Indefinite integrals"
   ]
  },
  {
   "cell_type": "markdown",
   "metadata": {
    "nbgrader": {}
   },
   "source": [
    "Here is a [table of definite integrals](http://en.wikipedia.org/wiki/List_of_definite_integrals). Many of these integrals has a number of parameters $a$, $b$, etc.\n",
    "\n",
    "Find five of these integrals and perform the following steps:\n",
    "\n",
    "1. Typeset the integral using LateX in a Markdown cell.\n",
    "1. Define an `integrand` function that computes the value of the integrand.\n",
    "2. Define an `integral_approx` funciton that uses `scipy.integrate.quad` to peform the integral.\n",
    "3. Define an `integral_exact` function that computes the exact value of the integral.\n",
    "4. Call and print the return value of `integral_approx` and `integral_exact` for one set of parameters.\n",
    "\n",
    "Here is an example to show what your solutions should look like:"
   ]
  },
  {
   "cell_type": "markdown",
   "metadata": {
    "nbgrader": {}
   },
   "source": [
    "### Example"
   ]
  },
  {
   "cell_type": "markdown",
   "metadata": {
    "collapsed": true,
    "nbgrader": {}
   },
   "source": [
    "Here is the integral I am performing:\n",
    "\n",
    "$$ I_1 = \\int_0^\\infty \\frac{dx}{x^2 + a^2} = \\frac{\\pi}{2a} $$"
   ]
  },
  {
   "cell_type": "code",
   "execution_count": 7,
   "metadata": {
    "collapsed": false,
    "nbgrader": {}
   },
   "outputs": [
    {
     "name": "stdout",
     "output_type": "stream",
     "text": [
      "Numerical:  1.5707963267948966\n",
      "Exact    :  1.5707963267948966\n"
     ]
    }
   ],
   "source": [
    "def integrand(x, a):\n",
    "    return 1.0/(x**2 + a**2)\n",
    "\n",
    "def integral_approx(a):\n",
    "    # Use the args keyword argument to feed extra arguments to your integrand\n",
    "    I, e = integrate.quad(integrand, 0, np.inf, args=(a,))\n",
    "    return I\n",
    "\n",
    "def integral_exact(a):\n",
    "    return 0.5*np.pi/a\n",
    "\n",
    "print(\"Numerical: \", integral_approx(1.0))\n",
    "print(\"Exact    : \", integral_exact(1.0))\n"
   ]
  },
  {
   "cell_type": "code",
   "execution_count": 8,
   "metadata": {
    "collapsed": true,
    "nbgrader": {}
   },
   "outputs": [],
   "source": [
    "assert True # leave this cell to grade the above integral"
   ]
  },
  {
   "cell_type": "markdown",
   "metadata": {},
   "source": [
    "### Integral 1"
   ]
  },
  {
   "cell_type": "markdown",
   "metadata": {
    "deletable": false,
    "nbgrader": {
     "checksum": "e034fc7ac9c38bbb9c7c87db4b6c8e4e",
     "grade": true,
     "grade_id": "integrationex03a",
     "points": 1,
     "solution": true
    }
   },
   "source": [
    "$$ I_1 = \\int_0^a {\\sqrt{a^2-x^2} dx} = \\frac{\\pi a^2}{4} $$"
   ]
  },
  {
   "cell_type": "code",
   "execution_count": 22,
   "metadata": {
    "collapsed": false,
    "deletable": false,
    "nbgrader": {
     "checksum": "6cff4e8e53b15273846c3aecaea84a3d",
     "solution": true
    }
   },
   "outputs": [
    {
     "name": "stdout",
     "output_type": "stream",
     "text": [
      "Numerical:  0.7853981633974481\n",
      "Exact    :  0.7853981633974483\n"
     ]
    }
   ],
   "source": [
    "def integrand(x, a):\n",
    "    return np.sqrt(a**2 - x**2)\n",
    "\n",
    "def integral_approx(a):\n",
    "    # Use the args keyword argument to feed extra arguments to your integrand\n",
    "    I, e = integrate.quad(integrand, 0, a, args=(a,))\n",
    "    return I\n",
    "\n",
    "def integral_exact(a):\n",
    "    return 0.25*np.pi\n",
    "\n",
    "print(\"Numerical: \", integral_approx(1.0))\n",
    "print(\"Exact    : \", integral_exact(1.0))"
   ]
  },
  {
   "cell_type": "code",
   "execution_count": 23,
   "metadata": {
    "collapsed": true,
    "deletable": false,
    "nbgrader": {
     "checksum": "b998cb1faa45ae86f0728d51dfa0e45c",
     "grade": true,
     "grade_id": "integrationex03b",
     "points": 1
    }
   },
   "outputs": [],
   "source": [
    "assert True # leave this cell to grade the above integral"
   ]
  },
  {
   "cell_type": "markdown",
   "metadata": {},
   "source": [
    "### Integral 2"
   ]
  },
  {
   "cell_type": "markdown",
   "metadata": {
    "deletable": false,
    "nbgrader": {
     "checksum": "c3191d99083f6d7cf804f95876e8a624",
     "grade": true,
     "grade_id": "integrationex03c",
     "points": 1,
     "solution": true
    }
   },
   "source": [
    "$$ I_2 = \\int_0^{\\frac{\\pi}{2}} {\\sin^2{x}}{ } {dx} = \\frac{\\pi}{4} $$"
   ]
  },
  {
   "cell_type": "code",
   "execution_count": 26,
   "metadata": {
    "collapsed": false,
    "deletable": false,
    "nbgrader": {
     "checksum": "6cff4e8e53b15273846c3aecaea84a3d",
     "solution": true
    }
   },
   "outputs": [
    {
     "name": "stdout",
     "output_type": "stream",
     "text": [
      "Numerical:  0.7853981633974483\n",
      "Exact    :  0.7853981633974483\n"
     ]
    }
   ],
   "source": [
    "def integrand(x):\n",
    "    return np.sin(x)**2\n",
    "\n",
    "def integral_approx():\n",
    "    I, e = integrate.quad(integrand, 0, np.pi/2)\n",
    "    return I\n",
    "\n",
    "def integral_exact():\n",
    "    return 0.25*np.pi\n",
    "\n",
    "print(\"Numerical: \", integral_approx())\n",
    "print(\"Exact    : \", integral_exact())"
   ]
  },
  {
   "cell_type": "code",
   "execution_count": null,
   "metadata": {
    "collapsed": true,
    "deletable": false,
    "nbgrader": {
     "checksum": "4e20de120f0c45ba666f10ba9a6c82d8",
     "grade": true,
     "grade_id": "integrationex03d",
     "points": 1
    }
   },
   "outputs": [],
   "source": [
    "assert True # leave this cell to grade the above integral"
   ]
  },
  {
   "cell_type": "markdown",
   "metadata": {
    "nbgrader": {}
   },
   "source": [
    "### Integral 3"
   ]
  },
  {
   "cell_type": "markdown",
   "metadata": {
    "deletable": false,
    "nbgrader": {
     "checksum": "c65f5242f7fa5525523b89899f6ca251",
     "grade": true,
     "grade_id": "integrationex03e",
     "points": 1,
     "solution": true
    }
   },
   "source": [
    "$$ I_3 = \\int_0^{2\\pi} \\frac{dx}{a+b\\sin{x}} = {\\frac{2\\pi}{\\sqrt{a^2-b^2}}} $$"
   ]
  },
  {
   "cell_type": "code",
   "execution_count": 66,
   "metadata": {
    "collapsed": false,
    "deletable": false,
    "nbgrader": {
     "checksum": "6cff4e8e53b15273846c3aecaea84a3d",
     "solution": true
    }
   },
   "outputs": [
    {
     "name": "stdout",
     "output_type": "stream",
     "text": [
      "Numerical:  0.6283185307179587\n",
      "Exact    :  0.628318530718\n"
     ]
    }
   ],
   "source": [
    "def integrand(x,a,b):\n",
    "        return 1/(a+ b*np.sin(x))\n",
    "\n",
    "def integral_approx(a,b):\n",
    "    I, e = integrate.quad(integrand, 0, 2*np.pi,args=(a,b))\n",
    "    return I\n",
    "\n",
    "def integral_exact(a,b):\n",
    "    return 2*np.pi/np.sqrt(a**2-b**2)\n",
    "\n",
    "print(\"Numerical: \", integral_approx(10,0))\n",
    "print(\"Exact    : \", integral_exact(10,0))"
   ]
  },
  {
   "cell_type": "code",
   "execution_count": null,
   "metadata": {
    "collapsed": true,
    "deletable": false,
    "nbgrader": {
     "checksum": "8c60d256fe8559e423cf8946ae70ba8d",
     "grade": true,
     "grade_id": "integrationex03f",
     "points": 1
    }
   },
   "outputs": [],
   "source": [
    "assert True # leave this cell to grade the above integral"
   ]
  },
  {
   "cell_type": "markdown",
   "metadata": {
    "nbgrader": {}
   },
   "source": [
    "### Integral 4"
   ]
  },
  {
   "cell_type": "markdown",
   "metadata": {
    "deletable": false,
    "nbgrader": {
     "checksum": "3a5d3b2070c78b64152c96681e8e6585",
     "grade": true,
     "grade_id": "integrationex03g",
     "points": 1,
     "solution": true
    }
   },
   "source": [
    "$$ I_4 = \\int_0^{\\infty} \\frac{x}{e^{x}+1} = {\\frac{\\pi^2}{12}} $$"
   ]
  },
  {
   "cell_type": "code",
   "execution_count": 72,
   "metadata": {
    "collapsed": false,
    "deletable": false,
    "nbgrader": {
     "checksum": "6cff4e8e53b15273846c3aecaea84a3d",
     "solution": true
    }
   },
   "outputs": [
    {
     "name": "stdout",
     "output_type": "stream",
     "text": [
      "Numerical:  0.822467033424113\n",
      "Exact    :  0.8224670334241131\n"
     ]
    }
   ],
   "source": [
    "def integrand(x):\n",
    "    return x/(np.exp(x)+1)\n",
    "\n",
    "def integral_approx():\n",
    "    I, e = integrate.quad(integrand, 0, np.inf)\n",
    "    return I\n",
    "\n",
    "def integral_exact():\n",
    "    return (1/12)*np.pi**2\n",
    "\n",
    "print(\"Numerical: \", integral_approx())\n",
    "print(\"Exact    : \", integral_exact())"
   ]
  },
  {
   "cell_type": "code",
   "execution_count": 73,
   "metadata": {
    "collapsed": true,
    "deletable": false,
    "nbgrader": {
     "checksum": "88acfb75979c6551c8b3af758cd86acc",
     "grade": true,
     "grade_id": "integrationex03h",
     "points": 1
    }
   },
   "outputs": [],
   "source": [
    "assert True # leave this cell to grade the above integral"
   ]
  },
  {
   "cell_type": "markdown",
   "metadata": {
    "nbgrader": {}
   },
   "source": [
    "### Integral 5"
   ]
  },
  {
   "cell_type": "markdown",
   "metadata": {
    "deletable": false,
    "nbgrader": {
     "checksum": "9dbb9f1159b3c089e60dd167d973cc59",
     "grade": true,
     "grade_id": "integrationex03i",
     "points": 1,
     "solution": true
    }
   },
   "source": [
    "$$ I_5 = \\int_0^{\\infty} \\frac{x}{e^{x}-1} = {\\frac{\\pi^2}{6}} $$"
   ]
  },
  {
   "cell_type": "code",
   "execution_count": 74,
   "metadata": {
    "collapsed": false,
    "deletable": false,
    "nbgrader": {
     "checksum": "6cff4e8e53b15273846c3aecaea84a3d",
     "solution": true
    }
   },
   "outputs": [
    {
     "name": "stdout",
     "output_type": "stream",
     "text": [
      "Numerical:  1.6449340668482264\n",
      "Exact    :  1.6449340668482262\n"
     ]
    }
   ],
   "source": [
    "def integrand(x):\n",
    "    return x/(np.exp(x)-1)\n",
    "\n",
    "def integral_approx():\n",
    "    I, e = integrate.quad(integrand, 0, np.inf)\n",
    "    return I\n",
    "\n",
    "def integral_exact():\n",
    "    return (1/6)*np.pi**2\n",
    "\n",
    "print(\"Numerical: \", integral_approx())\n",
    "print(\"Exact    : \", integral_exact())"
   ]
  },
  {
   "cell_type": "code",
   "execution_count": null,
   "metadata": {
    "collapsed": true,
    "deletable": false,
    "nbgrader": {
     "checksum": "34f6cf778698f4b90fdadc09c2a0f120",
     "grade": true,
     "grade_id": "integrationex03j",
     "points": 1
    }
   },
   "outputs": [],
   "source": [
    "assert True # leave this cell to grade the above integral"
   ]
  }
 ],
 "metadata": {
  "kernelspec": {
   "display_name": "Python 3",
   "language": "python",
   "name": "python3"
  },
  "language_info": {
   "codemirror_mode": {
    "name": "ipython",
    "version": 3
   },
   "file_extension": ".py",
   "mimetype": "text/x-python",
   "name": "python",
   "nbconvert_exporter": "python",
   "pygments_lexer": "ipython3",
   "version": "3.4.0"
  }
 },
 "nbformat": 4,
 "nbformat_minor": 0
}
