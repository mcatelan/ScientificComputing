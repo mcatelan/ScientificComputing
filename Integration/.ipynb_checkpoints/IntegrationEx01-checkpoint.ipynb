{
 "cells": [
  {
   "cell_type": "markdown",
   "metadata": {
    "nbgrader": {}
   },
   "source": [
    "# Integration Exercise 1"
   ]
  },
  {
   "cell_type": "markdown",
   "metadata": {
    "nbgrader": {}
   },
   "source": [
    "## Imports"
   ]
  },
  {
   "cell_type": "code",
   "execution_count": 1,
   "metadata": {
    "collapsed": true,
    "nbgrader": {}
   },
   "outputs": [],
   "source": [
    "%matplotlib inline\n",
    "import matplotlib.pyplot as plt\n",
    "import numpy as np\n",
    "from scipy import integrate"
   ]
  },
  {
   "cell_type": "markdown",
   "metadata": {
    "nbgrader": {}
   },
   "source": [
    "## Trapezoidal rule"
   ]
  },
  {
   "cell_type": "markdown",
   "metadata": {
    "nbgrader": {}
   },
   "source": [
    "The [trapezoidal](http://en.wikipedia.org/wiki/Trapezoidal_rule) rule generates a numerical approximation to the 1d integral:\n",
    "\n",
    "$$ I(a,b) = \\int_a^b f(x) dx $$\n",
    "\n",
    "by dividing the interval $[a,b]$ into $N$ subdivisions of length $h$:\n",
    "\n",
    "$$ h = (b-a)/N $$\n",
    "\n",
    "Note that this means the function will be evaluated at $N+1$ points on $[a,b]$. The main idea of the trapezoidal rule is that the function is approximated by a straight line between each of these points.\n",
    "\n",
    "Write a function `trapz(f, a, b, N)` that performs trapezoidal rule on the function `f` over the interval $[a,b]$ with `N` subdivisions (`N+1` points)."
   ]
  },
  {
   "cell_type": "code",
   "execution_count": 2,
   "metadata": {
    "collapsed": true,
    "nbgrader": {
     "checksum": "0502d257f547b022ec1fbe354a75bbc2",
     "solution": true
    }
   },
   "outputs": [],
   "source": [
    "def trapz(f, a, b, N):\n",
    "    h = (b-a)/N\n",
    "    k = np.arange(1,N)\n",
    "    I = h*(0.5*f(a) + 0.5*f(b) + f(a+k*h).sum())\n",
    "    return I"
   ]
  },
  {
   "cell_type": "code",
   "execution_count": 3,
   "metadata": {
    "collapsed": true,
    "nbgrader": {}
   },
   "outputs": [],
   "source": [
    "f = lambda x: x**2\n",
    "g = lambda x: np.sin(x)"
   ]
  },
  {
   "cell_type": "code",
   "execution_count": 4,
   "metadata": {
    "collapsed": false,
    "deletable": false,
    "nbgrader": {
     "checksum": "3ee11e4e20322adf86beac9605ef3b1a",
     "grade": true,
     "grade_id": "integrationex01a",
     "points": 5
    }
   },
   "outputs": [],
   "source": [
    "I = trapz(f, 0, 1, 1000)\n",
    "assert np.allclose(I, 0.33333349999999995)\n",
    "J = trapz(g, 0, np.pi, 1000)\n",
    "assert np.allclose(J, 1.9999983550656628)"
   ]
  },
  {
   "cell_type": "markdown",
   "metadata": {
    "nbgrader": {}
   },
   "source": [
    "Now use `scipy.integrate.quad` to integrate the `f` and `g` functions and see how the result compares with your `trapz` function. Print the results and errors."
   ]
  },
  {
   "cell_type": "code",
   "execution_count": 12,
   "metadata": {
    "collapsed": false,
    "deletable": false,
    "nbgrader": {
     "checksum": "6cff4e8e53b15273846c3aecaea84a3d",
     "solution": true
    }
   },
   "outputs": [
    {
     "data": {
      "text/plain": [
       "(0.33333333333333337, 3.700743415417189e-15)"
      ]
     },
     "execution_count": 12,
     "metadata": {},
     "output_type": "execute_result"
    }
   ],
   "source": [
    "integrate.quad(f,0,1)"
   ]
  },
  {
   "cell_type": "code",
   "execution_count": 13,
   "metadata": {
    "collapsed": false
   },
   "outputs": [
    {
     "data": {
      "text/plain": [
       "0.33333349999999995"
      ]
     },
     "execution_count": 13,
     "metadata": {},
     "output_type": "execute_result"
    }
   ],
   "source": [
    "trapz(f, 0, 1, 1000)"
   ]
  },
  {
   "cell_type": "code",
   "execution_count": 10,
   "metadata": {
    "collapsed": false
   },
   "outputs": [
    {
     "data": {
      "text/plain": [
       "(2.0, 2.220446049250313e-14)"
      ]
     },
     "execution_count": 10,
     "metadata": {},
     "output_type": "execute_result"
    }
   ],
   "source": [
    "integrate.quad(g,0,np.pi)"
   ]
  },
  {
   "cell_type": "code",
   "execution_count": 11,
   "metadata": {
    "collapsed": false
   },
   "outputs": [
    {
     "data": {
      "text/plain": [
       "1.9999983550656624"
      ]
     },
     "execution_count": 11,
     "metadata": {},
     "output_type": "execute_result"
    }
   ],
   "source": [
    "trapz(g, 0, np.pi, 1000)"
   ]
  },
  {
   "cell_type": "code",
   "execution_count": 7,
   "metadata": {
    "collapsed": true,
    "deletable": false,
    "nbgrader": {
     "checksum": "071dda1b7a2edcac2945239a2f53139d",
     "grade": true,
     "grade_id": "integrationex01b",
     "points": 5
    }
   },
   "outputs": [],
   "source": [
    "assert True # leave this cell to grade the previous one"
   ]
  }
 ],
 "metadata": {
  "kernelspec": {
   "display_name": "Python 3",
   "language": "python",
   "name": "python3"
  },
  "language_info": {
   "codemirror_mode": {
    "name": "ipython",
    "version": 3
   },
   "file_extension": ".py",
   "mimetype": "text/x-python",
   "name": "python",
   "nbconvert_exporter": "python",
   "pygments_lexer": "ipython3",
   "version": "3.4.0"
  }
 },
 "nbformat": 4,
 "nbformat_minor": 0
}
