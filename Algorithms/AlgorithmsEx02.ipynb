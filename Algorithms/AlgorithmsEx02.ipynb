{
 "cells": [
  {
   "cell_type": "markdown",
   "metadata": {
    "nbgrader": {}
   },
   "source": [
    "# Algorithms Exercise 2"
   ]
  },
  {
   "cell_type": "markdown",
   "metadata": {
    "nbgrader": {}
   },
   "source": [
    "## Imports"
   ]
  },
  {
   "cell_type": "code",
   "execution_count": 1,
   "metadata": {
    "collapsed": true,
    "nbgrader": {}
   },
   "outputs": [],
   "source": [
    "%matplotlib inline\n",
    "from matplotlib import pyplot as plt\n",
    "import seaborn as sns\n",
    "import numpy as np"
   ]
  },
  {
   "cell_type": "markdown",
   "metadata": {
    "nbgrader": {}
   },
   "source": [
    "## Peak finding"
   ]
  },
  {
   "cell_type": "markdown",
   "metadata": {
    "nbgrader": {}
   },
   "source": [
    "Write a function `find_peaks` that finds and returns the indices of the local maxima in a sequence. Your function should:\n",
    "\n",
    "* Properly handle local maxima at the endpoints of the input array.\n",
    "* Return a Numpy array of integer indices.\n",
    "* Handle any Python iterable as input."
   ]
  },
  {
   "cell_type": "code",
   "execution_count": 2,
   "metadata": {
    "collapsed": false,
    "nbgrader": {
     "checksum": "16e8d0e271e2b778e4e94f95fe3933a2",
     "solution": true
    }
   },
   "outputs": [],
   "source": [
    "def find_peaks(a):\n",
    "    \"\"\"Find the indices of the local maxima in a sequence.\"\"\"\n",
    "    peaks = np.array([],np.dtype('int'))\n",
    "    search = np.array([entry for entry in a])\n",
    "    if search[0] > search[1]:\n",
    "        peaks = np.append(peaks,np.array(0))\n",
    "        \n",
    "    for i in range(1,len(search)-1):\n",
    "        if search[i] > search[i+1] and search[i] > search[i-1]:\n",
    "            peaks = np.append(peaks,i)\n",
    "                                                          \n",
    "    if search[-1] > search[-2]:\n",
    "        peaks = np.append(peaks,np.array(len(search)-1))\n",
    "    return peaks\n",
    "        \n",
    "    \n",
    "    "
   ]
  },
  {
   "cell_type": "code",
   "execution_count": 3,
   "metadata": {
    "collapsed": false,
    "deletable": false,
    "nbgrader": {
     "checksum": "10f9a6cd367de8fdeafe16e190f7db83",
     "grade": true,
     "grade_id": "algorithmsex02a",
     "points": 5
    }
   },
   "outputs": [],
   "source": [
    "p1 = find_peaks([2,0,1,0,2,0,1])\n",
    "assert np.allclose(p1, np.array([0,2,4,6]))\n",
    "p2 = find_peaks(np.array([0,1,2,3]))\n",
    "assert np.allclose(p2, np.array([3]))\n",
    "p3 = find_peaks([3,2,1,0])\n",
    "assert np.allclose(p3, np.array([0]))"
   ]
  },
  {
   "cell_type": "markdown",
   "metadata": {
    "nbgrader": {}
   },
   "source": [
    "Here is a string with the first 10000 digits of $\\pi$ (after the decimal). Write code to perform the following:\n",
    "\n",
    "* Convert that string to a Numpy array of integers.\n",
    "* Find the indices of the local maxima in the digits of $\\pi$.\n",
    "* Use `np.diff` to find the distances between consequtive local maxima.\n",
    "* Visualize that distribution using an appropriately customized histogram."
   ]
  },
  {
   "cell_type": "code",
   "execution_count": 4,
   "metadata": {
    "collapsed": true,
    "nbgrader": {}
   },
   "outputs": [],
   "source": [
    "from sympy import pi, N\n",
    "pi_digits_str = str(N(pi, 10001))[2:]"
   ]
  },
  {
   "cell_type": "code",
   "execution_count": 5,
   "metadata": {
    "collapsed": false,
    "deletable": false,
    "nbgrader": {
     "checksum": "6cff4e8e53b15273846c3aecaea84a3d",
     "solution": true
    }
   },
   "outputs": [],
   "source": [
    "ints = [int(a) for a in pi_digits_str]"
   ]
  },
  {
   "cell_type": "code",
   "execution_count": 6,
   "metadata": {
    "collapsed": true
   },
   "outputs": [],
   "source": [
    "diff = np.diff(find_peaks(ints))"
   ]
  },
  {
   "cell_type": "code",
   "execution_count": 7,
   "metadata": {
    "collapsed": false
   },
   "outputs": [
    {
     "data": {
      "image/png": "[encoded data removed]",
      "text/plain": [
       "<matplotlib.figure.Figure at 0x7f6600d47898>"
      ]
     },
     "metadata": {},
     "output_type": "display_data"
    }
   ],
   "source": [
    "plt.hist(diff,np.arange(0,15));\n",
    "plt.xlim(2,15);\n",
    "plt.xlabel('Number of digits between maxima');\n",
    "plt.ylabel('Occurence');\n",
    "plt.title('Occurences of Maxima spacing for 10,000 digits of Pi');"
   ]
  },
  {
   "cell_type": "code",
   "execution_count": 8,
   "metadata": {
    "collapsed": true,
    "deletable": false,
    "nbgrader": {
     "checksum": "140552b7e8017eddb99806fbeaf8d8a0",
     "grade": true,
     "grade_id": "algorithmsex02b",
     "points": 5
    }
   },
   "outputs": [],
   "source": [
    "assert True # use this for grading the pi digits histogram"
   ]
  },
  {
   "cell_type": "code",
   "execution_count": null,
   "metadata": {
    "collapsed": true
   },
   "outputs": [],
   "source": []
  }
 ],
 "metadata": {
  "kernelspec": {
   "display_name": "Python 3",
   "language": "python",
   "name": "python3"
  },
  "language_info": {
   "codemirror_mode": {
    "name": "ipython",
    "version": 3
   },
   "file_extension": ".py",
   "mimetype": "text/x-python",
   "name": "python",
   "nbconvert_exporter": "python",
   "pygments_lexer": "ipython3",
   "version": "3.4.0"
  }
 },
 "nbformat": 4,
 "nbformat_minor": 0
}
